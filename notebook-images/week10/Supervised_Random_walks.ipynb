{
 "cells": [
  {
   "cell_type": "markdown",
   "metadata": {},
   "source": [
    "# Supervised Random Walks, GraphX/GraphFrames, Giraffe"
   ]
  },
  {
   "cell_type": "markdown",
   "metadata": {},
   "source": [
    "### REQUIRED READINGS FOR WEEK 13\n",
    "- Backstrom, L., & Leskovec, J. (2011). Supervised random walks: Predicting and recommending links in social networks. Proceedings of the Fourth ACM Conference on Web Search and Data Mining (WSDM'11), 635–644.\n",
    "\n",
    "- Macskassy, S. A., & Provost, F. (2003). A simple relational classifier. Proceedings of the Second Workshop on Multi-Relational Data Mining (MRDM) at the Ninth Annual ACM SIGKDD International Conference (KDD-2003).\n",
    "\n",
    "- Chakrabarti, D., Funiak, S., Chang, J., & Macskassy, S. A. (2014). Joint inference of multiple label types in large networks. Proceedings of the 31st International Conference on Machine Learning (JMLR: Workshop and Conference Proceedings 32).\n",
    "\n",
    "- Mihalcea, R., & Tarau, P. (2004). TextRank: Bringing order into texts. Proceedings of EMNLP-04 and the 2004 Conference on Empirical Methods in Natural Language Processing.\n",
    "\n",
    "- Ryza, S., Laserson, U., Owen, S., &, Wills, J. (2015). Advanced analytics with Spark: Patterns for learning from data at scale. Sebastopol, CA: O'Reilly Publishers. \n",
    "Chapter 7"
   ]
  },
  {
   "cell_type": "code",
   "execution_count": null,
   "metadata": {},
   "outputs": [],
   "source": []
  },
  {
   "cell_type": "markdown",
   "metadata": {},
   "source": [
    "## Link Prediction - Supervised Random Walks\n",
    "https://cs.stanford.edu/people/jure/pubs/linkpred-wsdm11.pdf"
   ]
  },
  {
   "cell_type": "markdown",
   "metadata": {},
   "source": [
    "## EdgeExplain"
   ]
  },
  {
   "cell_type": "markdown",
   "metadata": {},
   "source": [
    "- Mackskassy, S. A., & Provost, F. (2003). A simple relational classifier. Proceedings of the Second Workshop on Multi-Relational Data Mining (MRDM) at KDD, 64–76.\n",
    "- Tang, L., & Liu, H. (2009). Relational learning via latent social dimensions. Proceedings of the ACM SIGKDD International Conference on Knowledge Discovery and Data Mining (KDD), 817–826.\n",
    "- Tang, L., & Liu, H. (2009). Scalable learning of collective behavior based on sparse social dimensions. Proceedings of International Conference on Information and Knowledge Management (CIKM), 1107–1116.\n",
    "- Neville, J., Gallagher, B., Eliassi-Rad, T., & Wang, T. (2011). Correcting evaluation bias of relational classifiers with network cross validation. Knowledge and Information Systems (KAIS), 1–25.â�¨"
   ]
  },
  {
   "cell_type": "code",
   "execution_count": null,
   "metadata": {},
   "outputs": [],
   "source": []
  },
  {
   "cell_type": "markdown",
   "metadata": {},
   "source": [
    "$$\\frac{dJ(\\theta)^{(i)}}{d\\theta_j} = (h_{\\theta}(x^{(i)})-y^{(i)})x_j^{(i)}$$"
   ]
  },
  {
   "cell_type": "markdown",
   "metadata": {},
   "source": [
    "$$\\frac{dJ(\\theta)}{d\\theta_j} = \\frac{1}{m}\\sum_{i=1}^{m}(h_{\\theta}(x^{(i)})-y^{(i)})x_j^{(i)}$$"
   ]
  },
  {
   "cell_type": "code",
   "execution_count": null,
   "metadata": {},
   "outputs": [],
   "source": []
  }
 ],
 "metadata": {
  "kernelspec": {
   "display_name": "Python 3",
   "language": "python",
   "name": "python3"
  },
  "language_info": {
   "codemirror_mode": {
    "name": "ipython",
    "version": 3
   },
   "file_extension": ".py",
   "mimetype": "text/x-python",
   "name": "python",
   "nbconvert_exporter": "python",
   "pygments_lexer": "ipython3",
   "version": "3.6.6"
  }
 },
 "nbformat": 4,
 "nbformat_minor": 2
}
