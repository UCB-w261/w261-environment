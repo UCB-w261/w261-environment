{
 "cells": [
  {
   "cell_type": "markdown",
   "metadata": {},
   "source": [
    "# PLANET by hand"
   ]
  },
  {
   "cell_type": "code",
   "execution_count": 1,
   "metadata": {},
   "outputs": [],
   "source": [
    "from sklearn.datasets import make_regression\n",
    "from matplotlib import pyplot\n",
    "import numpy as np\n",
    "import pandas as pd\n"
   ]
  },
  {
   "cell_type": "code",
   "execution_count": 11,
   "metadata": {},
   "outputs": [],
   "source": [
    "# generate regression dataset\n",
    "X, y = make_regression(n_samples=6, n_features=2 , noise=0.1, random_state=2020)"
   ]
  },
  {
   "cell_type": "code",
   "execution_count": 49,
   "metadata": {},
   "outputs": [
    {
     "data": {
      "text/html": [
       "<div>\n",
       "<style scoped>\n",
       "    .dataframe tbody tr th:only-of-type {\n",
       "        vertical-align: middle;\n",
       "    }\n",
       "\n",
       "    .dataframe tbody tr th {\n",
       "        vertical-align: top;\n",
       "    }\n",
       "\n",
       "    .dataframe thead th {\n",
       "        text-align: right;\n",
       "    }\n",
       "</style>\n",
       "<table border=\"1\" class=\"dataframe\">\n",
       "  <thead>\n",
       "    <tr style=\"text-align: right;\">\n",
       "      <th></th>\n",
       "      <th>y</th>\n",
       "      <th>x0</th>\n",
       "      <th>x1</th>\n",
       "    </tr>\n",
       "  </thead>\n",
       "  <tbody>\n",
       "    <tr>\n",
       "      <th>0</th>\n",
       "      <td>60.2</td>\n",
       "      <td>-0.8</td>\n",
       "      <td>1.3</td>\n",
       "    </tr>\n",
       "    <tr>\n",
       "      <th>1</th>\n",
       "      <td>-82.1</td>\n",
       "      <td>-1.1</td>\n",
       "      <td>-0.7</td>\n",
       "    </tr>\n",
       "    <tr>\n",
       "      <th>2</th>\n",
       "      <td>-55.3</td>\n",
       "      <td>-1.8</td>\n",
       "      <td>0.1</td>\n",
       "    </tr>\n",
       "    <tr>\n",
       "      <th>3</th>\n",
       "      <td>2.1</td>\n",
       "      <td>-0.1</td>\n",
       "      <td>0.1</td>\n",
       "    </tr>\n",
       "    <tr>\n",
       "      <th>4</th>\n",
       "      <td>-115.5</td>\n",
       "      <td>-0.9</td>\n",
       "      <td>-1.3</td>\n",
       "    </tr>\n",
       "    <tr>\n",
       "      <th>5</th>\n",
       "      <td>-24.2</td>\n",
       "      <td>0.4</td>\n",
       "      <td>-0.6</td>\n",
       "    </tr>\n",
       "  </tbody>\n",
       "</table>\n",
       "</div>"
      ],
      "text/plain": [
       "       y   x0   x1\n",
       "0   60.2 -0.8  1.3\n",
       "1  -82.1 -1.1 -0.7\n",
       "2  -55.3 -1.8  0.1\n",
       "3    2.1 -0.1  0.1\n",
       "4 -115.5 -0.9 -1.3\n",
       "5  -24.2  0.4 -0.6"
      ]
     },
     "execution_count": 49,
     "metadata": {},
     "output_type": "execute_result"
    }
   ],
   "source": [
    "df=pd.DataFrame(zip(X,y), columns=[\"X\",\"y\"])\n",
    "df[['x0','x1']] = pd.DataFrame(df[\"X\"].values.tolist(), index= df.index)\n",
    "df=df.drop(['X'], axis=1)\n",
    "df=df.round(1)\n",
    "df"
   ]
  },
  {
   "cell_type": "markdown",
   "metadata": {},
   "source": [
    "## PLANET\n",
    "https://static.googleusercontent.com/media/research.google.com/en//pubs/archive/36296.pdf"
   ]
  },
  {
   "cell_type": "markdown",
   "metadata": {},
   "source": [
    "1. Preprocess: generate split points\n",
    "\n",
    "2. Controller: \n",
    "        broadcast splits points\n",
    "        broadcast model file\n",
    "        broadcast N (list of nodes to expand)\n",
    "        \n",
    "3. Mapper:\n",
    "       \n",
    "       Algorithm 2 MR ExpandNodes::Map\n",
    "        Require: NodeSet N, ModelFile M, Training record\n",
    "        (x, y) ∈ D∗\n",
    "        1: n = TraverseTree(M, x)\n",
    "        2: if n ∈ N then\n",
    "        3:    agg tupn ← y\n",
    "        4:    for all X ∈ X do\n",
    "        5:       v = Value on X in x\n",
    "        6:       if X is ordered then\n",
    "        7:          for all Split point s of X s.t. s < v do\n",
    "        8:             Tn,X [s] ← y\n",
    "        9:       else\n",
    "        10:         Tn,X [v] ← y\n",
    "4. Mapper Final:\n",
    "        \n",
    "        Algorithm 3 MR ExpandNodes::Map Finalize\n",
    "        Require: NodeSet N\n",
    "        1: for all n ∈ N do\n",
    "        2:    Output to all reducers(agg tupn)\n",
    "        3: for all X ∈ X do\n",
    "        4:    if X is ordered then\n",
    "        5:       for all Split point s of X do\n",
    "        6:          Output((n, X, s), Tn,X [s])\n",
    "        7:    else\n",
    "        8:       for all v ∈ Tn,X do\n",
    "        9:          Output((n, X), (v, Tn,X [v]))\n",
    "        \n",
    "5. Reducer:\n",
    "        \n",
    "        Algorithm 4 MR ExpandNodes::Reduce\n",
    "        Require: Key k,Value Set V\n",
    "        1: if k == n then\n",
    "        2:    {Aggregate agg tupn’s from mappers}\n",
    "        3:    agg tupn = Aggregate(V )\n",
    "        4: else if k == n, X, s then\n",
    "        5:    {Split on ordered attribute}\n",
    "        6:    agg tupleft = Aggregate(V )\n",
    "        7:    agg tupright = agg tupn - agg tupleft\n",
    "        8:    UpdateBestSplit(S [n],X,s,agg tupleft, agg tupright)\n",
    "        9: else if k == n, X then\n",
    "        10:   {Split on unordered attribute}\n",
    "        11:   for all v,agg tup ∈ V do\n",
    "        12:   T[v] ← agg tup\n",
    "        13:   UpdateBestSplit(S [n],BreimanSplit(X,T,agg tupn))\n",
    "        \n",
    "6. Controller:\n",
    "        \n",
    "        Algorithm 5 UpdateQueues\n",
    "        Require: DataSetSize |D|, Node n\n",
    "        1: if not StoppingCriteria(|D|) then\n",
    "        2:    if |D| < in memory threshold then\n",
    "        3:       InMemQ.append(n)\n",
    "        4:    else\n",
    "        5:       MRQ.append(n)\n",
    "        \n",
    "        \n",
    "        Algorithm 6 Schedule MR ExpandNode\n",
    "        Require: NodeSet N,Current Model M\n",
    "        1: CandidateGoodSplits = MR ExpandNodes(N,M,D∗)\n",
    "        2: for all n ∈ N do\n",
    "        3:    n →split,n →l pred, n →r pred,|DL|,|DR| = FindBestSplit(n, CandidateGoodSplits)\n",
    "        4:    UpdateQueues(|DL|,n →left)\n",
    "        5:    UpdateQueues(|DR|,n →right)\n",
    "        6: jobs running - -"
   ]
  },
  {
   "cell_type": "markdown",
   "metadata": {},
   "source": [
    "# 1. Preprocess"
   ]
  },
  {
   "cell_type": "code",
   "execution_count": 83,
   "metadata": {},
   "outputs": [],
   "source": [
    "# Split points:\n",
    "x0 = [-1.45, -0.85, -0.43]\n",
    "x1 = [-0.96]"
   ]
  },
  {
   "cell_type": "code",
   "execution_count": 103,
   "metadata": {},
   "outputs": [
    {
     "data": {
      "text/plain": [
       "[-1.0666666666666667, -0.33333333333333326, 0.40000000000000013]"
      ]
     },
     "execution_count": 103,
     "metadata": {},
     "output_type": "execute_result"
    }
   ],
   "source": [
    "start = min(df['x0'])\n",
    "bins = 3\n",
    "inc = (1.8 + 0.4)/bins\n",
    "x0 = []\n",
    "for i in range(bins):\n",
    "    start=start+inc\n",
    "    x0.append(start)\n",
    "    \n",
    "x0    "
   ]
  },
  {
   "cell_type": "code",
   "execution_count": 117,
   "metadata": {},
   "outputs": [
    {
     "data": {
      "text/plain": [
       "[-0.78, -0.26, 0.26, 0.78, 1.3]"
      ]
     },
     "execution_count": 117,
     "metadata": {},
     "output_type": "execute_result"
    }
   ],
   "source": [
    "start = min(df['x1'])\n",
    "bins = 5\n",
    "inc = (1.3 + 1.3)/bins\n",
    "x1=[]\n",
    "for i in range(bins):\n",
    "    start=start+inc\n",
    "    x1.append(start)\n",
    "x1    "
   ]
  },
  {
   "cell_type": "code",
   "execution_count": 119,
   "metadata": {},
   "outputs": [],
   "source": [
    "x1 = sorted(df['x1'])\n",
    "x0 = sorted(df['x0'])"
   ]
  },
  {
   "cell_type": "code",
   "execution_count": 126,
   "metadata": {},
   "outputs": [
    {
     "name": "stdout",
     "output_type": "stream",
     "text": [
      "[-1.4500000000000002, -1.0, -0.8500000000000001, -0.45, 0.15]\n",
      "[-1.8, -1.1, -0.9, -0.8, -0.1, 0.4]\n",
      "[-1.0, -0.6499999999999999, -0.25, 0.1, 0.7]\n",
      "[-1.3, -0.7, -0.6, 0.1, 0.1, 1.3]\n"
     ]
    }
   ],
   "source": [
    "import math\n",
    "x0splits=[]\n",
    "x1splits=[]\n",
    "for i in range(5):\n",
    "    x0splits.append(x0[i]+((x0[i+1]-x0[i])/2))\n",
    "    x1splits.append(x1[i]+((x1[i+1]-x1[i])/2))\n",
    "print(x0splits)\n",
    "print(x0)\n",
    "print(x1splits)\n",
    "print(x1)"
   ]
  },
  {
   "cell_type": "markdown",
   "metadata": {},
   "source": [
    "# 2. Controller"
   ]
  },
  {
   "cell_type": "code",
   "execution_count": null,
   "metadata": {},
   "outputs": [],
   "source": [
    "# Initialize model file\n",
    "MODEL = {\n",
    "    \n",
    "}"
   ]
  },
  {
   "cell_type": "code",
   "execution_count": null,
   "metadata": {},
   "outputs": [],
   "source": [
    "N = ['A']"
   ]
  },
  {
   "cell_type": "code",
   "execution_count": 138,
   "metadata": {},
   "outputs": [
    {
     "data": {
      "text/plain": [
       "array([-1.24993e+03,  6.68827e+03,  2.00000e+00])"
      ]
     },
     "execution_count": 138,
     "metadata": {},
     "output_type": "execute_result"
    }
   ],
   "source": [
    "import numpy as np\n",
    "np.array((90.51,10731.95,6)) - np.array((1340.44, 4043.68, 4))"
   ]
  },
  {
   "cell_type": "code",
   "execution_count": 137,
   "metadata": {},
   "outputs": [
    {
     "data": {
      "text/plain": [
       "15.085"
      ]
     },
     "execution_count": 137,
     "metadata": {},
     "output_type": "execute_result"
    }
   ],
   "source": [
    "(90.51/6)"
   ]
  },
  {
   "cell_type": "markdown",
   "metadata": {},
   "source": [
    "## Check with sklearn"
   ]
  },
  {
   "cell_type": "code",
   "execution_count": 44,
   "metadata": {},
   "outputs": [],
   "source": [
    "# Fit an \"example\" tree using sklearn (RUN THIS CELL AS IS)\n",
    "from sklearn import tree\n",
    "clf = tree.DecisionTreeRegressor(max_leaf_nodes=5)\n",
    "clf = clf.fit(X, y)"
   ]
  },
  {
   "cell_type": "code",
   "execution_count": 50,
   "metadata": {},
   "outputs": [
    {
     "name": "stdout",
     "output_type": "stream",
     "text": [
      "|--- x0 <= -0.85\n",
      "|   |--- x1 <= -0.96\n",
      "|   |   |--- value: [-115.46]\n",
      "|   |--- x1 >  -0.96\n",
      "|   |   |--- x0 <= -1.45\n",
      "|   |   |   |--- value: [-55.26]\n",
      "|   |   |--- x0 >  -1.45\n",
      "|   |   |   |--- value: [-82.15]\n",
      "|--- x0 >  -0.85\n",
      "|   |--- x0 <= -0.43\n",
      "|   |   |--- value: [60.16]\n",
      "|   |--- x0 >  -0.43\n",
      "|   |   |--- value: [-11.02]\n",
      "\n"
     ]
    }
   ],
   "source": [
    "from sklearn.tree.export import export_text\n",
    "tree_rules = export_text(clf,feature_names=['x0','x1'])\n",
    "print(tree_rules)"
   ]
  },
  {
   "cell_type": "code",
   "execution_count": 59,
   "metadata": {},
   "outputs": [
    {
     "name": "stdout",
     "output_type": "stream",
     "text": [
      "left children:  [ 1  5  3 -1 -1 -1  7 -1 -1]\n",
      "right children:  [ 2  6  4 -1 -1 -1  8 -1 -1]\n",
      "nodes splitting features [ 0  1  0 -2 -2 -2  0 -2 -2]\n",
      "splitting values [-0.84722462 -0.9627656  -0.43124402 -2.         -2.         -2.\n",
      " -1.44973767 -2.         -2.        ]\n",
      "node values [[[ -35.79053229]]\n",
      "\n",
      " [[ -84.28993118]]\n",
      "\n",
      " [[  12.70886661]]\n",
      "\n",
      " [[  60.15970591]]\n",
      "\n",
      " [[ -11.01655305]]\n",
      "\n",
      " [[-115.45788824]]\n",
      "\n",
      " [[ -68.70595265]]\n",
      "\n",
      " [[ -55.26487131]]\n",
      "\n",
      " [[ -82.14703398]]]\n"
     ]
    }
   ],
   "source": [
    "print(\"left children: \", clf.tree_.children_left) #array of left children\n",
    "print(\"right children: \", clf.tree_.children_right) #array of right children\n",
    "print(\"nodes splitting features\", clf.tree_.feature) #array of nodes splitting feature\n",
    "print(\"splitting values\",clf.tree_.threshold) #array of nodes splitting points\n",
    "print(\"node values\",clf.tree_.value) #array of nodes values"
   ]
  },
  {
   "cell_type": "code",
   "execution_count": 51,
   "metadata": {},
   "outputs": [],
   "source": [
    "# If you don't already have graphviz, install it.\n",
    "#!conda install -y python-graphviz"
   ]
  },
  {
   "cell_type": "code",
   "execution_count": 52,
   "metadata": {},
   "outputs": [
    {
     "data": {
      "image/svg+xml": [
       "<?xml version=\"1.0\" encoding=\"UTF-8\" standalone=\"no\"?>\n",
       "<!DOCTYPE svg PUBLIC \"-//W3C//DTD SVG 1.1//EN\"\n",
       " \"http://www.w3.org/Graphics/SVG/1.1/DTD/svg11.dtd\">\n",
       "<!-- Generated by graphviz version 2.40.1 (20161225.0304)\n",
       " -->\n",
       "<!-- Title: Tree Pages: 1 -->\n",
       "<svg width=\"480pt\" height=\"433pt\"\n",
       " viewBox=\"0.00 0.00 479.50 433.00\" xmlns=\"http://www.w3.org/2000/svg\" xmlns:xlink=\"http://www.w3.org/1999/xlink\">\n",
       "<g id=\"graph0\" class=\"graph\" transform=\"scale(1 1) rotate(0) translate(4 429)\">\n",
       "<title>Tree</title>\n",
       "<polygon fill=\"#ffffff\" stroke=\"transparent\" points=\"-4,4 -4,-429 475.5,-429 475.5,4 -4,4\"/>\n",
       "<!-- 0 -->\n",
       "<g id=\"node1\" class=\"node\">\n",
       "<title>0</title>\n",
       "<polygon fill=\"none\" stroke=\"#000000\" points=\"295,-425 189,-425 189,-342 295,-342 295,-425\"/>\n",
       "<text text-anchor=\"middle\" x=\"242\" y=\"-409.8\" font-family=\"Times,serif\" font-size=\"14.00\" fill=\"#000000\">node #0</text>\n",
       "<text text-anchor=\"middle\" x=\"242\" y=\"-394.8\" font-family=\"Times,serif\" font-size=\"14.00\" fill=\"#000000\">X[0] &lt;= &#45;0.847</text>\n",
       "<text text-anchor=\"middle\" x=\"242\" y=\"-379.8\" font-family=\"Times,serif\" font-size=\"14.00\" fill=\"#000000\">mse = 3275.858</text>\n",
       "<text text-anchor=\"middle\" x=\"242\" y=\"-364.8\" font-family=\"Times,serif\" font-size=\"14.00\" fill=\"#000000\">samples = 6</text>\n",
       "<text text-anchor=\"middle\" x=\"242\" y=\"-349.8\" font-family=\"Times,serif\" font-size=\"14.00\" fill=\"#000000\">value = &#45;35.791</text>\n",
       "</g>\n",
       "<!-- 1 -->\n",
       "<g id=\"node2\" class=\"node\">\n",
       "<title>1</title>\n",
       "<polygon fill=\"none\" stroke=\"#000000\" points=\"232,-306 130,-306 130,-223 232,-223 232,-306\"/>\n",
       "<text text-anchor=\"middle\" x=\"181\" y=\"-290.8\" font-family=\"Times,serif\" font-size=\"14.00\" fill=\"#000000\">node #1</text>\n",
       "<text text-anchor=\"middle\" x=\"181\" y=\"-275.8\" font-family=\"Times,serif\" font-size=\"14.00\" fill=\"#000000\">X[1] &lt;= &#45;0.963</text>\n",
       "<text text-anchor=\"middle\" x=\"181\" y=\"-260.8\" font-family=\"Times,serif\" font-size=\"14.00\" fill=\"#000000\">mse = 606.163</text>\n",
       "<text text-anchor=\"middle\" x=\"181\" y=\"-245.8\" font-family=\"Times,serif\" font-size=\"14.00\" fill=\"#000000\">samples = 3</text>\n",
       "<text text-anchor=\"middle\" x=\"181\" y=\"-230.8\" font-family=\"Times,serif\" font-size=\"14.00\" fill=\"#000000\">value = &#45;84.29</text>\n",
       "</g>\n",
       "<!-- 0&#45;&gt;1 -->\n",
       "<g id=\"edge1\" class=\"edge\">\n",
       "<title>0&#45;&gt;1</title>\n",
       "<path fill=\"none\" stroke=\"#000000\" d=\"M220.6652,-341.8796C216.2793,-333.3236 211.6147,-324.2238 207.083,-315.3833\"/>\n",
       "<polygon fill=\"#000000\" stroke=\"#000000\" points=\"210.1022,-313.6004 202.4259,-306.2981 203.873,-316.7936 210.1022,-313.6004\"/>\n",
       "<text text-anchor=\"middle\" x=\"194.7586\" y=\"-326.3933\" font-family=\"Times,serif\" font-size=\"14.00\" fill=\"#000000\">True</text>\n",
       "</g>\n",
       "<!-- 2 -->\n",
       "<g id=\"node7\" class=\"node\">\n",
       "<title>2</title>\n",
       "<polygon fill=\"none\" stroke=\"#000000\" points=\"356,-306 250,-306 250,-223 356,-223 356,-306\"/>\n",
       "<text text-anchor=\"middle\" x=\"303\" y=\"-290.8\" font-family=\"Times,serif\" font-size=\"14.00\" fill=\"#000000\">node #2</text>\n",
       "<text text-anchor=\"middle\" x=\"303\" y=\"-275.8\" font-family=\"Times,serif\" font-size=\"14.00\" fill=\"#000000\">X[0] &lt;= &#45;0.431</text>\n",
       "<text text-anchor=\"middle\" x=\"303\" y=\"-260.8\" font-family=\"Times,serif\" font-size=\"14.00\" fill=\"#000000\">mse = 1241.169</text>\n",
       "<text text-anchor=\"middle\" x=\"303\" y=\"-245.8\" font-family=\"Times,serif\" font-size=\"14.00\" fill=\"#000000\">samples = 3</text>\n",
       "<text text-anchor=\"middle\" x=\"303\" y=\"-230.8\" font-family=\"Times,serif\" font-size=\"14.00\" fill=\"#000000\">value = 12.709</text>\n",
       "</g>\n",
       "<!-- 0&#45;&gt;2 -->\n",
       "<g id=\"edge6\" class=\"edge\">\n",
       "<title>0&#45;&gt;2</title>\n",
       "<path fill=\"none\" stroke=\"#000000\" d=\"M263.3348,-341.8796C267.7207,-333.3236 272.3853,-324.2238 276.917,-315.3833\"/>\n",
       "<polygon fill=\"#000000\" stroke=\"#000000\" points=\"280.127,-316.7936 281.5741,-306.2981 273.8978,-313.6004 280.127,-316.7936\"/>\n",
       "<text text-anchor=\"middle\" x=\"289.2414\" y=\"-326.3933\" font-family=\"Times,serif\" font-size=\"14.00\" fill=\"#000000\">False</text>\n",
       "</g>\n",
       "<!-- 5 -->\n",
       "<g id=\"node3\" class=\"node\">\n",
       "<title>5</title>\n",
       "<polygon fill=\"none\" stroke=\"#000000\" points=\"112,-179.5 0,-179.5 0,-111.5 112,-111.5 112,-179.5\"/>\n",
       "<text text-anchor=\"middle\" x=\"56\" y=\"-164.3\" font-family=\"Times,serif\" font-size=\"14.00\" fill=\"#000000\">node #5</text>\n",
       "<text text-anchor=\"middle\" x=\"56\" y=\"-149.3\" font-family=\"Times,serif\" font-size=\"14.00\" fill=\"#000000\">mse = 0.0</text>\n",
       "<text text-anchor=\"middle\" x=\"56\" y=\"-134.3\" font-family=\"Times,serif\" font-size=\"14.00\" fill=\"#000000\">samples = 1</text>\n",
       "<text text-anchor=\"middle\" x=\"56\" y=\"-119.3\" font-family=\"Times,serif\" font-size=\"14.00\" fill=\"#000000\">value = &#45;115.458</text>\n",
       "</g>\n",
       "<!-- 1&#45;&gt;5 -->\n",
       "<g id=\"edge2\" class=\"edge\">\n",
       "<title>1&#45;&gt;5</title>\n",
       "<path fill=\"none\" stroke=\"#000000\" d=\"M137.2811,-222.8796C125.0375,-211.2237 111.7339,-198.5587 99.5029,-186.9148\"/>\n",
       "<polygon fill=\"#000000\" stroke=\"#000000\" points=\"101.7012,-184.1751 92.0451,-179.8149 96.8746,-189.245 101.7012,-184.1751\"/>\n",
       "</g>\n",
       "<!-- 6 -->\n",
       "<g id=\"node4\" class=\"node\">\n",
       "<title>6</title>\n",
       "<polygon fill=\"none\" stroke=\"#000000\" points=\"235.5,-187 130.5,-187 130.5,-104 235.5,-104 235.5,-187\"/>\n",
       "<text text-anchor=\"middle\" x=\"183\" y=\"-171.8\" font-family=\"Times,serif\" font-size=\"14.00\" fill=\"#000000\">node #6</text>\n",
       "<text text-anchor=\"middle\" x=\"183\" y=\"-156.8\" font-family=\"Times,serif\" font-size=\"14.00\" fill=\"#000000\">X[0] &lt;= &#45;1.45</text>\n",
       "<text text-anchor=\"middle\" x=\"183\" y=\"-141.8\" font-family=\"Times,serif\" font-size=\"14.00\" fill=\"#000000\">mse = 180.663</text>\n",
       "<text text-anchor=\"middle\" x=\"183\" y=\"-126.8\" font-family=\"Times,serif\" font-size=\"14.00\" fill=\"#000000\">samples = 2</text>\n",
       "<text text-anchor=\"middle\" x=\"183\" y=\"-111.8\" font-family=\"Times,serif\" font-size=\"14.00\" fill=\"#000000\">value = &#45;68.706</text>\n",
       "</g>\n",
       "<!-- 1&#45;&gt;6 -->\n",
       "<g id=\"edge3\" class=\"edge\">\n",
       "<title>1&#45;&gt;6</title>\n",
       "<path fill=\"none\" stroke=\"#000000\" d=\"M181.6995,-222.8796C181.8372,-214.6838 181.9834,-205.9891 182.126,-197.5013\"/>\n",
       "<polygon fill=\"#000000\" stroke=\"#000000\" points=\"185.6289,-197.3555 182.2975,-187.2981 178.6299,-197.2378 185.6289,-197.3555\"/>\n",
       "</g>\n",
       "<!-- 7 -->\n",
       "<g id=\"node5\" class=\"node\">\n",
       "<title>7</title>\n",
       "<polygon fill=\"none\" stroke=\"#000000\" points=\"174.5,-68 69.5,-68 69.5,0 174.5,0 174.5,-68\"/>\n",
       "<text text-anchor=\"middle\" x=\"122\" y=\"-52.8\" font-family=\"Times,serif\" font-size=\"14.00\" fill=\"#000000\">node #7</text>\n",
       "<text text-anchor=\"middle\" x=\"122\" y=\"-37.8\" font-family=\"Times,serif\" font-size=\"14.00\" fill=\"#000000\">mse = 0.0</text>\n",
       "<text text-anchor=\"middle\" x=\"122\" y=\"-22.8\" font-family=\"Times,serif\" font-size=\"14.00\" fill=\"#000000\">samples = 1</text>\n",
       "<text text-anchor=\"middle\" x=\"122\" y=\"-7.8\" font-family=\"Times,serif\" font-size=\"14.00\" fill=\"#000000\">value = &#45;55.265</text>\n",
       "</g>\n",
       "<!-- 6&#45;&gt;7 -->\n",
       "<g id=\"edge4\" class=\"edge\">\n",
       "<title>6&#45;&gt;7</title>\n",
       "<path fill=\"none\" stroke=\"#000000\" d=\"M160.2859,-103.9815C155.5092,-95.2504 150.4595,-86.0202 145.6494,-77.2281\"/>\n",
       "<polygon fill=\"#000000\" stroke=\"#000000\" points=\"148.6153,-75.3568 140.7451,-68.2637 142.4742,-78.7165 148.6153,-75.3568\"/>\n",
       "</g>\n",
       "<!-- 8 -->\n",
       "<g id=\"node6\" class=\"node\">\n",
       "<title>8</title>\n",
       "<polygon fill=\"none\" stroke=\"#000000\" points=\"297.5,-68 192.5,-68 192.5,0 297.5,0 297.5,-68\"/>\n",
       "<text text-anchor=\"middle\" x=\"245\" y=\"-52.8\" font-family=\"Times,serif\" font-size=\"14.00\" fill=\"#000000\">node #8</text>\n",
       "<text text-anchor=\"middle\" x=\"245\" y=\"-37.8\" font-family=\"Times,serif\" font-size=\"14.00\" fill=\"#000000\">mse = &#45;0.0</text>\n",
       "<text text-anchor=\"middle\" x=\"245\" y=\"-22.8\" font-family=\"Times,serif\" font-size=\"14.00\" fill=\"#000000\">samples = 1</text>\n",
       "<text text-anchor=\"middle\" x=\"245\" y=\"-7.8\" font-family=\"Times,serif\" font-size=\"14.00\" fill=\"#000000\">value = &#45;82.147</text>\n",
       "</g>\n",
       "<!-- 6&#45;&gt;8 -->\n",
       "<g id=\"edge5\" class=\"edge\">\n",
       "<title>6&#45;&gt;8</title>\n",
       "<path fill=\"none\" stroke=\"#000000\" d=\"M206.0865,-103.9815C210.9415,-95.2504 216.074,-86.0202 220.9629,-77.2281\"/>\n",
       "<polygon fill=\"#000000\" stroke=\"#000000\" points=\"224.1467,-78.7043 225.9476,-68.2637 218.0288,-75.3025 224.1467,-78.7043\"/>\n",
       "</g>\n",
       "<!-- 3 -->\n",
       "<g id=\"node8\" class=\"node\">\n",
       "<title>3</title>\n",
       "<polygon fill=\"none\" stroke=\"#000000\" points=\"348.5,-179.5 255.5,-179.5 255.5,-111.5 348.5,-111.5 348.5,-179.5\"/>\n",
       "<text text-anchor=\"middle\" x=\"302\" y=\"-164.3\" font-family=\"Times,serif\" font-size=\"14.00\" fill=\"#000000\">node #3</text>\n",
       "<text text-anchor=\"middle\" x=\"302\" y=\"-149.3\" font-family=\"Times,serif\" font-size=\"14.00\" fill=\"#000000\">mse = 0.0</text>\n",
       "<text text-anchor=\"middle\" x=\"302\" y=\"-134.3\" font-family=\"Times,serif\" font-size=\"14.00\" fill=\"#000000\">samples = 1</text>\n",
       "<text text-anchor=\"middle\" x=\"302\" y=\"-119.3\" font-family=\"Times,serif\" font-size=\"14.00\" fill=\"#000000\">value = 60.16</text>\n",
       "</g>\n",
       "<!-- 2&#45;&gt;3 -->\n",
       "<g id=\"edge7\" class=\"edge\">\n",
       "<title>2&#45;&gt;3</title>\n",
       "<path fill=\"none\" stroke=\"#000000\" d=\"M302.6502,-222.8796C302.5606,-212.2134 302.4639,-200.7021 302.3731,-189.9015\"/>\n",
       "<polygon fill=\"#000000\" stroke=\"#000000\" points=\"305.8724,-189.7851 302.2884,-179.8149 298.8726,-189.844 305.8724,-189.7851\"/>\n",
       "</g>\n",
       "<!-- 4 -->\n",
       "<g id=\"node9\" class=\"node\">\n",
       "<title>4</title>\n",
       "<polygon fill=\"none\" stroke=\"#000000\" points=\"471.5,-179.5 366.5,-179.5 366.5,-111.5 471.5,-111.5 471.5,-179.5\"/>\n",
       "<text text-anchor=\"middle\" x=\"419\" y=\"-164.3\" font-family=\"Times,serif\" font-size=\"14.00\" fill=\"#000000\">node #4</text>\n",
       "<text text-anchor=\"middle\" x=\"419\" y=\"-149.3\" font-family=\"Times,serif\" font-size=\"14.00\" fill=\"#000000\">mse = 173.067</text>\n",
       "<text text-anchor=\"middle\" x=\"419\" y=\"-134.3\" font-family=\"Times,serif\" font-size=\"14.00\" fill=\"#000000\">samples = 2</text>\n",
       "<text text-anchor=\"middle\" x=\"419\" y=\"-119.3\" font-family=\"Times,serif\" font-size=\"14.00\" fill=\"#000000\">value = &#45;11.017</text>\n",
       "</g>\n",
       "<!-- 2&#45;&gt;4 -->\n",
       "<g id=\"edge8\" class=\"edge\">\n",
       "<title>2&#45;&gt;4</title>\n",
       "<path fill=\"none\" stroke=\"#000000\" d=\"M343.5712,-222.8796C354.826,-211.3337 367.0461,-198.7976 378.3078,-187.2446\"/>\n",
       "<polygon fill=\"#000000\" stroke=\"#000000\" points=\"381.0762,-189.4188 385.5501,-179.8149 376.0636,-184.5326 381.0762,-189.4188\"/>\n",
       "</g>\n",
       "</g>\n",
       "</svg>\n"
      ],
      "text/plain": [
       "<graphviz.files.Source at 0x1a265bd4e0>"
      ]
     },
     "execution_count": 52,
     "metadata": {},
     "output_type": "execute_result"
    }
   ],
   "source": [
    "import graphviz \n",
    "dot_data = tree.export_graphviz(clf, out_file=None, node_ids=True) \n",
    "graph = graphviz.Source(dot_data) \n",
    "graph"
   ]
  },
  {
   "cell_type": "code",
   "execution_count": null,
   "metadata": {},
   "outputs": [],
   "source": []
  }
 ],
 "metadata": {
  "kernelspec": {
   "display_name": "Python 3",
   "language": "python",
   "name": "python3"
  },
  "language_info": {
   "codemirror_mode": {
    "name": "ipython",
    "version": 3
   },
   "file_extension": ".py",
   "mimetype": "text/x-python",
   "name": "python",
   "nbconvert_exporter": "python",
   "pygments_lexer": "ipython3",
   "version": "3.7.3"
  }
 },
 "nbformat": 4,
 "nbformat_minor": 2
}
