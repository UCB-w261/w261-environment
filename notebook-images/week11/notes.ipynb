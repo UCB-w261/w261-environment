{
 "cells": [
  {
   "cell_type": "markdown",
   "metadata": {},
   "source": [
    "# Notes for Decision Trees"
   ]
  },
  {
   "cell_type": "markdown",
   "metadata": {},
   "source": [
    "## DT Review\n",
    "* Learning - How do we decide splits, \n",
    "* Regression\n",
    "* Classification\n",
    "\n",
    "## How to prallelize DTs / PLANET\n",
    "## Ensemble methods\n"
   ]
  },
  {
   "cell_type": "code",
   "execution_count": null,
   "metadata": {},
   "outputs": [],
   "source": []
  },
  {
   "cell_type": "markdown",
   "metadata": {},
   "source": [
    "## Chapter 9.2 ESL - Tree-Based Methods   \n",
    "\n",
    "9.2.1 BACKGROUND\n",
    "* CART, C4.5\n",
    "\n",
    "9.2.2 REGRESSION TREES\n",
    "\n",
    "9.2.3 CLASSIFICATION TREES\n",
    "\n",
    "9.2.4 OTHER ISSUES\n",
    "* Categorical Predictors\n",
    "* The Loss Matrix\n",
    "* Missing Predictor Values\n",
    "* Why Binary Splits?\n",
    "* Linear Combination Splits\n",
    "* Instability of Trees\n",
    "* Lack of Smoothness\n",
    "* Other Tree-Building Procedures - pg 312 ESL - C5.0\n",
    "\n",
    "## Learning\n",
    "* Greedy algorithm for the joint minimization problem\n",
    "* Preprocessing\n",
    "* __Hyperparameters__\n",
    "    * tree size\n",
    "    * cost-complexity pruning    \n",
    "* __Impurity measures__\n",
    "    * Regression trees\n",
    "        * Squared error\n",
    "    * Classification trees\n",
    "        * Misclassification\n",
    "        * Gini\n",
    "        * Cross Entropy\n",
    "        \n",
    "\n",
    "## Pruning\n",
    "Either the Gini index or cross-entropy should be used when growing the tree. To guide cost-complexity pruning, any of the three measures can be used, but typically it is the misclassification rate.\n",
    "\n",
    "\n",
    "\n",
    "## Evaluation"
   ]
  },
  {
   "cell_type": "code",
   "execution_count": null,
   "metadata": {},
   "outputs": [],
   "source": []
  },
  {
   "cell_type": "code",
   "execution_count": null,
   "metadata": {},
   "outputs": [],
   "source": []
  },
  {
   "cell_type": "code",
   "execution_count": null,
   "metadata": {},
   "outputs": [],
   "source": []
  }
 ],
 "metadata": {
  "kernelspec": {
   "display_name": "Python 3",
   "language": "python",
   "name": "python3"
  },
  "language_info": {
   "codemirror_mode": {
    "name": "ipython",
    "version": 3
   },
   "file_extension": ".py",
   "mimetype": "text/x-python",
   "name": "python",
   "nbconvert_exporter": "python",
   "pygments_lexer": "ipython3",
   "version": "3.7.5"
  }
 },
 "nbformat": 4,
 "nbformat_minor": 4
}
